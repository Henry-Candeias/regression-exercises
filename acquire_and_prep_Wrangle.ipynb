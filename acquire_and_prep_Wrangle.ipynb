{
 "cells": [
  {
   "cell_type": "code",
   "execution_count": 1,
   "id": "98180ee1",
   "metadata": {},
   "outputs": [],
   "source": [
    "#standard DS imports\n",
    "import pandas as pd\n",
    "import numpy as np\n",
    "\n",
    "#visualization imports\n",
    "import matplotlib.pyplot as plt\n",
    "import seaborn as sns\n",
    "\n",
    "import wrangle as w\n",
    "import env"
   ]
  },
  {
   "cell_type": "code",
   "execution_count": 2,
   "id": "517b43f4",
   "metadata": {},
   "outputs": [],
   "source": [
    "query = '''select bedroomcnt, bathroomcnt, calculatedfinishedsquarefeet, taxvaluedollarcnt, yearbuilt, taxamount, fips\n",
    "        from propertylandusetype\n",
    "            join properties_2017\n",
    "                using (propertylandusetypeid)\n",
    "        WHERE propertylandusedesc = (\"Single Family Residential\")'''"
   ]
  },
  {
   "cell_type": "code",
   "execution_count": 3,
   "id": "aa78b880",
   "metadata": {},
   "outputs": [],
   "source": [
    "url = env.get_db_url('zillow')"
   ]
  },
  {
   "cell_type": "code",
   "execution_count": 4,
   "id": "496e42ce",
   "metadata": {},
   "outputs": [],
   "source": [
    "zillow = pd.read_sql(query, url)"
   ]
  },
  {
   "cell_type": "code",
   "execution_count": 5,
   "id": "29cbb0c9",
   "metadata": {},
   "outputs": [
    {
     "data": {
      "text/html": [
       "<div>\n",
       "<style scoped>\n",
       "    .dataframe tbody tr th:only-of-type {\n",
       "        vertical-align: middle;\n",
       "    }\n",
       "\n",
       "    .dataframe tbody tr th {\n",
       "        vertical-align: top;\n",
       "    }\n",
       "\n",
       "    .dataframe thead th {\n",
       "        text-align: right;\n",
       "    }\n",
       "</style>\n",
       "<table border=\"1\" class=\"dataframe\">\n",
       "  <thead>\n",
       "    <tr style=\"text-align: right;\">\n",
       "      <th></th>\n",
       "      <th>bedroomcnt</th>\n",
       "      <th>bathroomcnt</th>\n",
       "      <th>calculatedfinishedsquarefeet</th>\n",
       "      <th>taxvaluedollarcnt</th>\n",
       "      <th>yearbuilt</th>\n",
       "      <th>taxamount</th>\n",
       "      <th>fips</th>\n",
       "    </tr>\n",
       "  </thead>\n",
       "  <tbody>\n",
       "    <tr>\n",
       "      <th>1426077</th>\n",
       "      <td>3.0</td>\n",
       "      <td>2.0</td>\n",
       "      <td>1256.0</td>\n",
       "      <td>175261.0</td>\n",
       "      <td>1957.0</td>\n",
       "      <td>2334.12</td>\n",
       "      <td>6037.0</td>\n",
       "    </tr>\n",
       "    <tr>\n",
       "      <th>912158</th>\n",
       "      <td>4.0</td>\n",
       "      <td>2.0</td>\n",
       "      <td>1640.0</td>\n",
       "      <td>248460.0</td>\n",
       "      <td>1979.0</td>\n",
       "      <td>3243.86</td>\n",
       "      <td>6037.0</td>\n",
       "    </tr>\n",
       "    <tr>\n",
       "      <th>1675418</th>\n",
       "      <td>3.0</td>\n",
       "      <td>2.0</td>\n",
       "      <td>1363.0</td>\n",
       "      <td>349900.0</td>\n",
       "      <td>1953.0</td>\n",
       "      <td>4377.85</td>\n",
       "      <td>6037.0</td>\n",
       "    </tr>\n",
       "    <tr>\n",
       "      <th>172279</th>\n",
       "      <td>3.0</td>\n",
       "      <td>3.0</td>\n",
       "      <td>3076.0</td>\n",
       "      <td>680836.0</td>\n",
       "      <td>1999.0</td>\n",
       "      <td>11060.08</td>\n",
       "      <td>6037.0</td>\n",
       "    </tr>\n",
       "    <tr>\n",
       "      <th>884807</th>\n",
       "      <td>3.0</td>\n",
       "      <td>2.0</td>\n",
       "      <td>1130.0</td>\n",
       "      <td>402488.0</td>\n",
       "      <td>1953.0</td>\n",
       "      <td>4856.48</td>\n",
       "      <td>6037.0</td>\n",
       "    </tr>\n",
       "    <tr>\n",
       "      <th>1465596</th>\n",
       "      <td>3.0</td>\n",
       "      <td>2.0</td>\n",
       "      <td>2041.0</td>\n",
       "      <td>459396.0</td>\n",
       "      <td>1948.0</td>\n",
       "      <td>5648.88</td>\n",
       "      <td>6037.0</td>\n",
       "    </tr>\n",
       "    <tr>\n",
       "      <th>1689264</th>\n",
       "      <td>4.0</td>\n",
       "      <td>2.5</td>\n",
       "      <td>2061.0</td>\n",
       "      <td>133064.0</td>\n",
       "      <td>1973.0</td>\n",
       "      <td>1339.44</td>\n",
       "      <td>6059.0</td>\n",
       "    </tr>\n",
       "    <tr>\n",
       "      <th>495507</th>\n",
       "      <td>4.0</td>\n",
       "      <td>2.5</td>\n",
       "      <td>2205.0</td>\n",
       "      <td>322923.0</td>\n",
       "      <td>1976.0</td>\n",
       "      <td>3411.14</td>\n",
       "      <td>6111.0</td>\n",
       "    </tr>\n",
       "    <tr>\n",
       "      <th>440158</th>\n",
       "      <td>4.0</td>\n",
       "      <td>3.5</td>\n",
       "      <td>2204.0</td>\n",
       "      <td>898000.0</td>\n",
       "      <td>1977.0</td>\n",
       "      <td>9191.58</td>\n",
       "      <td>6059.0</td>\n",
       "    </tr>\n",
       "    <tr>\n",
       "      <th>1379313</th>\n",
       "      <td>2.0</td>\n",
       "      <td>2.0</td>\n",
       "      <td>1484.0</td>\n",
       "      <td>760916.0</td>\n",
       "      <td>1961.0</td>\n",
       "      <td>9179.33</td>\n",
       "      <td>6037.0</td>\n",
       "    </tr>\n",
       "  </tbody>\n",
       "</table>\n",
       "</div>"
      ],
      "text/plain": [
       "         bedroomcnt  bathroomcnt  calculatedfinishedsquarefeet  \\\n",
       "1426077         3.0          2.0                        1256.0   \n",
       "912158          4.0          2.0                        1640.0   \n",
       "1675418         3.0          2.0                        1363.0   \n",
       "172279          3.0          3.0                        3076.0   \n",
       "884807          3.0          2.0                        1130.0   \n",
       "1465596         3.0          2.0                        2041.0   \n",
       "1689264         4.0          2.5                        2061.0   \n",
       "495507          4.0          2.5                        2205.0   \n",
       "440158          4.0          3.5                        2204.0   \n",
       "1379313         2.0          2.0                        1484.0   \n",
       "\n",
       "         taxvaluedollarcnt  yearbuilt  taxamount    fips  \n",
       "1426077           175261.0     1957.0    2334.12  6037.0  \n",
       "912158            248460.0     1979.0    3243.86  6037.0  \n",
       "1675418           349900.0     1953.0    4377.85  6037.0  \n",
       "172279            680836.0     1999.0   11060.08  6037.0  \n",
       "884807            402488.0     1953.0    4856.48  6037.0  \n",
       "1465596           459396.0     1948.0    5648.88  6037.0  \n",
       "1689264           133064.0     1973.0    1339.44  6059.0  \n",
       "495507            322923.0     1976.0    3411.14  6111.0  \n",
       "440158            898000.0     1977.0    9191.58  6059.0  \n",
       "1379313           760916.0     1961.0    9179.33  6037.0  "
      ]
     },
     "execution_count": 5,
     "metadata": {},
     "output_type": "execute_result"
    }
   ],
   "source": [
    "zillow.sample(10)"
   ]
  },
  {
   "cell_type": "code",
   "execution_count": 6,
   "id": "e61995e7",
   "metadata": {},
   "outputs": [
    {
     "name": "stdout",
     "output_type": "stream",
     "text": [
      "<class 'pandas.core.frame.DataFrame'>\n",
      "RangeIndex: 2152863 entries, 0 to 2152862\n",
      "Data columns (total 7 columns):\n",
      " #   Column                        Dtype  \n",
      "---  ------                        -----  \n",
      " 0   bedroomcnt                    float64\n",
      " 1   bathroomcnt                   float64\n",
      " 2   calculatedfinishedsquarefeet  float64\n",
      " 3   taxvaluedollarcnt             float64\n",
      " 4   yearbuilt                     float64\n",
      " 5   taxamount                     float64\n",
      " 6   fips                          float64\n",
      "dtypes: float64(7)\n",
      "memory usage: 115.0 MB\n"
     ]
    }
   ],
   "source": [
    "zillow.info()"
   ]
  },
  {
   "cell_type": "code",
   "execution_count": 7,
   "id": "5be4c40f",
   "metadata": {},
   "outputs": [
    {
     "data": {
      "text/plain": [
       "(2152863, 7)"
      ]
     },
     "execution_count": 7,
     "metadata": {},
     "output_type": "execute_result"
    }
   ],
   "source": [
    "zillow.shape"
   ]
  },
  {
   "cell_type": "code",
   "execution_count": 8,
   "id": "93c54a5f",
   "metadata": {},
   "outputs": [
    {
     "data": {
      "text/plain": [
       "bedroomcnt                       True\n",
       "bathroomcnt                      True\n",
       "calculatedfinishedsquarefeet     True\n",
       "taxvaluedollarcnt                True\n",
       "yearbuilt                        True\n",
       "taxamount                        True\n",
       "fips                            False\n",
       "dtype: bool"
      ]
     },
     "execution_count": 8,
     "metadata": {},
     "output_type": "execute_result"
    }
   ],
   "source": [
    "zillow.isnull().any()"
   ]
  },
  {
   "cell_type": "code",
   "execution_count": 9,
   "id": "79f1dcfb",
   "metadata": {},
   "outputs": [],
   "source": [
    "zillow = zillow.dropna()"
   ]
  },
  {
   "cell_type": "code",
   "execution_count": 10,
   "id": "9117d703",
   "metadata": {},
   "outputs": [
    {
     "data": {
      "text/plain": [
       "bedroomcnt                      False\n",
       "bathroomcnt                     False\n",
       "calculatedfinishedsquarefeet    False\n",
       "taxvaluedollarcnt               False\n",
       "yearbuilt                       False\n",
       "taxamount                       False\n",
       "fips                            False\n",
       "dtype: bool"
      ]
     },
     "execution_count": 10,
     "metadata": {},
     "output_type": "execute_result"
    }
   ],
   "source": [
    "zillow.isnull().any()"
   ]
  },
  {
   "cell_type": "code",
   "execution_count": 11,
   "id": "35c19bb5",
   "metadata": {},
   "outputs": [],
   "source": [
    "zillow.yearbuilt = zillow.yearbuilt.astype(int)\n",
    "zillow.bedroomcnt = zillow.bedroomcnt.astype(int)\n",
    "zillow.fips = zillow.fips.astype(int)\n",
    "zillow.taxvaluedollarcnt = zillow.taxvaluedollarcnt.astype(int)\n",
    "zillow.calculatedfinishedsquarefeet = zillow.calculatedfinishedsquarefeet.astype(int)"
   ]
  },
  {
   "cell_type": "code",
   "execution_count": 12,
   "id": "4e2d6064",
   "metadata": {},
   "outputs": [
    {
     "data": {
      "text/plain": [
       "bedroomcnt                        int64\n",
       "bathroomcnt                     float64\n",
       "calculatedfinishedsquarefeet      int64\n",
       "taxvaluedollarcnt                 int64\n",
       "yearbuilt                         int64\n",
       "taxamount                       float64\n",
       "fips                              int64\n",
       "dtype: object"
      ]
     },
     "execution_count": 12,
     "metadata": {},
     "output_type": "execute_result"
    }
   ],
   "source": [
    "zillow.dtypes"
   ]
  },
  {
   "cell_type": "code",
   "execution_count": 14,
   "id": "93f249eb",
   "metadata": {},
   "outputs": [
    {
     "name": "stdout",
     "output_type": "stream",
     "text": [
      "this file exists, reading from csv\n"
     ]
    }
   ],
   "source": [
    "df = w.wrangle_zillow()"
   ]
  },
  {
   "cell_type": "code",
   "execution_count": null,
   "id": "a5243678",
   "metadata": {},
   "outputs": [],
   "source": []
  },
  {
   "cell_type": "code",
   "execution_count": null,
   "id": "c3bf756a",
   "metadata": {},
   "outputs": [],
   "source": []
  },
  {
   "cell_type": "code",
   "execution_count": null,
   "id": "ff5ca876",
   "metadata": {},
   "outputs": [],
   "source": []
  }
 ],
 "metadata": {
  "kernelspec": {
   "display_name": "Python 3 (ipykernel)",
   "language": "python",
   "name": "python3"
  },
  "language_info": {
   "codemirror_mode": {
    "name": "ipython",
    "version": 3
   },
   "file_extension": ".py",
   "mimetype": "text/x-python",
   "name": "python",
   "nbconvert_exporter": "python",
   "pygments_lexer": "ipython3",
   "version": "3.11.5"
  }
 },
 "nbformat": 4,
 "nbformat_minor": 5
}
